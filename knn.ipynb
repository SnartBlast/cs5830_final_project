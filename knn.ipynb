{
 "cells": [
  {
   "cell_type": "code",
   "execution_count": 1,
   "id": "cd1b3e64-ad9e-400e-a31c-d20958737a53",
   "metadata": {},
   "outputs": [],
   "source": [
    "import pandas as pd\n",
    "import numpy as np\n",
    "from sklearn.model_selection import train_test_split\n",
    "from sklearn.neighbors import NearestNeighbors\n",
    "from sklearn.metrics import precision_recall_fscore_support\n",
    "\n",
    "# read in flight data\n",
    "flight = pd.read_csv('data/raw/Airline_Delay_Cause.csv')\n",
    "late_threshhold = 20 * 60\n",
    "flight['late'] = np.where(flight['late_aircraft_delay'] <= late_threshhold, 0, 1) # collapse values in column\n",
    "\n",
    "# standardize data\n",
    "flight['arr_flights'] = (flight.arr_flights - flight.arr_flights.mean()) / flight.arr_flights.std()\n",
    "flight['arr_del15'] = (flight.arr_del15 - flight.arr_del15.mean()) / flight.arr_del15.std()\n",
    "flight['carrier_ct'] = (flight.carrier_ct - flight.carrier_ct.mean()) / flight.carrier_ct.std()\n",
    "flight['weather_ct'] = (flight.weather_ct - flight.weather_ct.mean()) / flight.weather_ct.std()\n",
    "flight['nas_ct'] = (flight.nas_ct - flight.nas_ct.mean()) / flight.nas_ct.std()\n",
    "flight['security_ct'] = (flight.security_ct - flight.security_ct.mean()) / flight.security_ct.std()\n",
    "flight['late_aircraft_ct'] = (flight.late_aircraft_ct - flight.late_aircraft_ct.mean()) / flight.late_aircraft_ct.std()\n",
    "flight['arr_cancelled'] = (flight.arr_cancelled - flight.arr_cancelled.mean()) / flight.arr_cancelled.std()\n",
    "flight['arr_diverted'] = (flight.arr_diverted - flight.arr_diverted.mean()) / flight.arr_diverted.std()\n",
    "flight['arr_delay'] = (flight.arr_delay - flight.arr_delay.mean()) / flight.arr_delay.std()\n",
    "flight['carrier_delay'] = (flight.carrier_delay - flight.carrier_delay.mean()) / flight.carrier_delay.std()\n",
    "flight['weather_delay'] = (flight.weather_delay - flight.weather_delay.mean()) / flight.weather_delay.std()\n",
    "flight['nas_delay'] = (flight.nas_delay - flight.nas_delay.mean()) / flight.nas_delay.std()\n",
    "flight['security_delay'] = (flight.security_delay - flight.security_delay.mean()) / flight.security_delay.std()\n",
    "flight['late_aircraft_delay'] = (flight.late_aircraft_delay - flight.late_aircraft_delay.mean()) / flight.late_aircraft_delay.std()\n",
    "flight = flight.dropna()"
   ]
  },
  {
   "cell_type": "code",
   "execution_count": 2,
   "id": "85fdfe78-1da9-4310-8640-e8ae54181960",
   "metadata": {},
   "outputs": [
    {
     "data": {
      "text/plain": [
       "'Precision -> 0.9967532467532467'"
      ]
     },
     "metadata": {},
     "output_type": "display_data"
    },
    {
     "data": {
      "text/plain": [
       "'   Recall -> 1.0'"
      ]
     },
     "metadata": {},
     "output_type": "display_data"
    },
    {
     "data": {
      "text/plain": [
       "'       F1 -> 0.9983739837398374'"
      ]
     },
     "metadata": {},
     "output_type": "display_data"
    }
   ],
   "source": [
    "# perform knn\n",
    "flightsX = flight[['late_aircraft_delay']].values\n",
    "#                   , 'arr_del15', 'carrier_ct', 'weather_ct', 'nas_ct', 'security_ct', 'late_aircraft_ct', 'arr_cancelled', \n",
    "#                   'arr_diverted', 'arr_delay', 'carrier_delay', 'weather_delay', 'nas_delay', 'security_delay', 'late_aircraft_delay']].values\n",
    "flightsY = flight[['late']].values\n",
    "flightsX = flightsX[:1000]\n",
    "flightsY = flightsY[:1000]\n",
    "\n",
    "# do train test split \n",
    "X_train, X_test, y_train, y_test = train_test_split(flightsX, flightsY, test_size = 0.4)\n",
    "nn = NearestNeighbors(n_neighbors=5, metric='euclidean', algorithm='auto')\n",
    "fit = nn.fit(flightsX)\n",
    "distances, indices = fit.kneighbors(flightsX)\n",
    "\n",
    "# do predictions\n",
    "y_pred = []\n",
    "for i in range(len(flightsX)):\n",
    "    nbrs = flight.iloc[indices[i]]\n",
    "    nbrs = nbrs.drop(flight.index[i], errors='ignore')\n",
    "    ontime = nbrs[nbrs.late == 0].count().late\n",
    "    late = nbrs[nbrs.late == 1].count().late\n",
    "    predict = 0 if (ontime > late) else 1\n",
    "    y_pred.append(predict)   \n",
    "\n",
    "# display results\n",
    "(p, r, f, s) = precision_recall_fscore_support(flightsY, y_pred, labels=[1])\n",
    "display(f'Precision -> {p[0]}')\n",
    "display(f'   Recall -> {r[0]}')\n",
    "display(f'       F1 -> {f[0]}')\n",
    "\n",
    "# arr_flights\n",
    "#'Precision -> 0.7325227963525835'\n",
    "#'   Recall -> 0.7850162866449512'\n",
    "#'       F1 -> 0.7578616352201258'\n",
    "# ------------------------------------\n",
    "# carrier_ct\n",
    "#'Precision -> 0.6907514450867052'\n",
    "#'   Recall -> 0.7785016286644951'\n",
    "#'       F1 -> 0.7320061255742726'\n",
    "# ------------------------------------\n",
    "# weather_ct\n",
    "#'Precision -> 0.5222222222222223'\n",
    "#'   Recall -> 0.6123778501628665'\n",
    "#'       F1 -> 0.5637181409295352'\n",
    "# ------------------------------------\n",
    "# nas_ct\n",
    "#'Precision -> 0.6930091185410334'\n",
    "#'   Recall -> 0.742671009771987'\n",
    "#'       F1 -> 0.7169811320754716'\n",
    "# ------------------------------------\n",
    "# security_ct\n",
    "#'Precision -> 0.8203592814371258'\n",
    "#'   Recall -> 0.44625407166123776'\n",
    "#'       F1 -> 0.5780590717299579'\n",
    "# ------------------------------------\n",
    "# late_aircraft_ct\n",
    "#'Precision -> 0.8801261829652997'\n",
    "#'   Recall -> 0.9087947882736156'\n",
    "#'       F1 -> 0.8942307692307693'\n",
    "# ------------------------------------\n",
    "# arr_cancelled\n",
    "#'Precision -> 0.7738693467336684'\n",
    "#'   Recall -> 0.501628664495114'\n",
    "#'       F1 -> 0.6086956521739131'\n",
    "# ------------------------------------\n",
    "# arr_diverted\n",
    "#'Precision -> 0.7407407407407407'\n",
    "#'   Recall -> 0.19543973941368079'\n",
    "#'       F1 -> 0.30927835051546393'\n",
    "# ------------------------------------\n",
    "# arr_delay\n",
    "#'Precision -> 0.7663817663817664'\n",
    "#'   Recall -> 0.8762214983713354'\n",
    "#'       F1 -> 0.817629179331307'\n",
    "# ------------------------------------\n",
    "# carrier_delay\n",
    "#'Precision -> 0.6521739130434783'\n",
    "#'   Recall -> 0.7817589576547231'\n",
    "#'       F1 -> 0.7111111111111111'\n",
    "# ------------------------------------\n",
    "# weather_delay\n",
    "#'Precision -> 0.5069252077562327'\n",
    "#'   Recall -> 0.5960912052117264'\n",
    "#'       F1 -> 0.5479041916167665'\n",
    "# ------------------------------------\n",
    "# nas_delay\n",
    "#'Precision -> 0.6816901408450704'\n",
    "#'   Recall -> 0.7882736156351792'\n",
    "#'       F1 -> 0.7311178247734139'\n",
    "# ------------------------------------\n",
    "# security_delay\n",
    "#'Precision -> 0.8113207547169812'\n",
    "#'   Recall -> 0.4201954397394137'\n",
    "#'       F1 -> 0.5536480686695279'\n",
    "# ------------------------------------\n",
    "# late_aircraft_delay\n",
    "#'Precision -> 0.9967532467532467'\n",
    "#'   Recall -> 1.0'\n",
    "#'       F1 -> 0.9983739837398374'\n"
   ]
  },
  {
   "cell_type": "code",
   "execution_count": 3,
   "id": "b52d1dd3-b6eb-40ce-86c0-f5deee2ae437",
   "metadata": {},
   "outputs": [
    {
     "data": {
      "text/plain": [
       "<BarContainer object of 14 artists>"
      ]
     },
     "execution_count": 3,
     "metadata": {},
     "output_type": "execute_result"
    },
    {
     "data": {
      "image/png": "[encoded data removed]",
      "text/plain": [
       "<Figure size 640x480 with 1 Axes>"
      ]
     },
     "metadata": {},
     "output_type": "display_data"
    }
   ],
   "source": [
    "delays = {'arr_diverted':0.30927835051546393, \n",
    "          'weather_delay':0.5479041916167665, \n",
    "          'security_delay':0.5536480686695279,\n",
    "          'weather_ct':0.5637181409295352,\n",
    "          'security_ct':0.5780590717299579, \n",
    "          'arr_cancelled':0.6086956521739131,\n",
    "          'carrier_delay':0.7111111111111111, \n",
    "          'nas_ct':0.7169811320754716, \n",
    "          'nas_delay':0.7311178247734139, \n",
    "          'carrier_ct':0.7320061255742726,\n",
    "          'arr_flights':0.7578616352201258, \n",
    "          'arr_delay':0.817629179331307, \n",
    "          'late_aircraft_ct':0.8942307692307693, \n",
    "          'late_aircraft_delay':0.9983739837398374 }\n",
    "\n",
    "import matplotlib.pyplot as plt\n",
    "bar = plt.bar(*zip(*delays.items()))\n",
    "plt.xticks(rotation=90)\n",
    "plt.ylim(0.29, 1.02)\n",
    "for i in range(len(delays)):\n",
    "    bar[i].set_color('green')\n",
    "plt.ylabel('F1 Score')\n",
    "bar"
   ]
  },
  {
   "cell_type": "code",
   "execution_count": 4,
   "id": "76ae9625-f04a-42a5-bb9f-def1cfb883b0",
   "metadata": {},
   "outputs": [],
   "source": [
    "# do knn on balanced csv\n",
    "flights = pd.read_csv('data/raw/small.csv')\n",
    "flights = flights.dropna()\n",
    "\n",
    "# standardize data\n",
    "flights['DEP_DELAY'] = (flights.DEP_DELAY - flights.DEP_DELAY.mean()) / flights.DEP_DELAY.std()\n",
    "flights['TAXI_OUT'] = (flights.TAXI_OUT - flights.TAXI_OUT.mean()) / flights.TAXI_OUT.std()\n",
    "#flights['ARR_DEL15'] = (flights.ARR_DEL15 - flights.ARR_DEL15.mean()) / flights.ARR_DEL15.std()\n",
    "flights['DISTANCE'] = (flights.DISTANCE - flights.DISTANCE.mean()) / flights.DISTANCE.std()"
   ]
  },
  {
   "cell_type": "code",
   "execution_count": 11,
   "id": "d385864c-d4a3-4c7e-86b4-4167f84448e4",
   "metadata": {},
   "outputs": [
    {
     "name": "stdout",
     "output_type": "stream",
     "text": [
      "0\n",
      "100\n",
      "200\n",
      "300\n",
      "400\n",
      "500\n",
      "600\n",
      "700\n",
      "800\n",
      "900\n"
     ]
    },
    {
     "data": {
      "text/plain": [
       "'Precision -> 0.9354838709677419'"
      ]
     },
     "metadata": {},
     "output_type": "display_data"
    },
    {
     "data": {
      "text/plain": [
       "'   Recall -> 0.7733333333333333'"
      ]
     },
     "metadata": {},
     "output_type": "display_data"
    },
    {
     "data": {
      "text/plain": [
       "'       F1 -> 0.8467153284671532'"
      ]
     },
     "metadata": {},
     "output_type": "display_data"
    }
   ],
   "source": [
    "flightsX = flights[['DEP_DELAY', 'TAXI_OUT', 'DISTANCE']].values\n",
    "flightsY = flights[['ARR_DEL15']].values\n",
    "flightsX = flightsX[:1000]\n",
    "flightsY = flightsY[:1000]\n",
    "\n",
    "# do train test split \n",
    "X_train, X_test, y_train, y_test = train_test_split(flightsX, flightsY, test_size = 0.4)\n",
    "nn = NearestNeighbors(n_neighbors=5, metric='euclidean', algorithm='auto')\n",
    "fit = nn.fit(flightsX)\n",
    "distances, indices = fit.kneighbors(flightsX)\n",
    "\n",
    "# do predictions\n",
    "y_pred = []\n",
    "for i in range(len(flightsX)):\n",
    "    if (i % 100 == 0):\n",
    "        print(i)\n",
    "    nbrs = flights.iloc[indices[i]]\n",
    "    nbrs = nbrs.drop(flights.ARR_DEL15, errors='ignore')\n",
    "    ontime = nbrs[nbrs.ARR_DEL15 == 0].count().ARR_DEL15\n",
    "    late = nbrs[nbrs.ARR_DEL15 == 1].count().ARR_DEL15\n",
    "    predict = 0 if (ontime > late) else 1\n",
    "    y_pred.append(predict)   \n",
    "\n",
    "# display results\n",
    "(p, r, f, s) = precision_recall_fscore_support(flightsY, y_pred, labels=[1])\n",
    "display(f'Precision -> {p[0]}')\n",
    "display(f'   Recall -> {r[0]}')\n",
    "display(f'       F1 -> {f[0]}')"
   ]
  },
  {
   "cell_type": "code",
   "execution_count": null,
   "id": "f0b2388d-2001-47bb-b1b4-db854c0c0ce8",
   "metadata": {},
   "outputs": [],
   "source": []
  }
 ],
 "metadata": {
  "kernelspec": {
   "display_name": "Python 3 (ipykernel)",
   "language": "python",
   "name": "python3"
  },
  "language_info": {
   "codemirror_mode": {
    "name": "ipython",
    "version": 3
   },
   "file_extension": ".py",
   "mimetype": "text/x-python",
   "name": "python",
   "nbconvert_exporter": "python",
   "pygments_lexer": "ipython3",
   "version": "3.11.2"
  }
 },
 "nbformat": 4,
 "nbformat_minor": 5
}
