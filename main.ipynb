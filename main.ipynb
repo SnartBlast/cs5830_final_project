{
 "cells": [
  {
   "cell_type": "code",
   "execution_count": 39,
   "metadata": {},
   "outputs": [],
   "source": [
    "from sklearn.preprocessing import StandardScaler\n",
    "from imblearn.over_sampling import SMOTE\n",
    "import numpy as np\n",
    "import pandas as pd\n",
    "import sys\n",
    "from model import NLTK_Binary_Classifier\n",
    "from sklearn.model_selection import train_test_split\n",
    "import os "
   ]
  },
  {
   "cell_type": "code",
   "execution_count": 40,
   "metadata": {},
   "outputs": [],
   "source": [
    "df = pd.read_csv('data/raw/small.csv')"
   ]
  },
  {
   "cell_type": "code",
   "execution_count": 41,
   "metadata": {},
   "outputs": [
    {
     "name": "stdout",
     "output_type": "stream",
     "text": [
      "my target is ['ARR_DEL15']\n"
     ]
    },
    {
     "data": {
      "text/plain": [
       "\"categorical features: ['MONTH', 'OP_CARRIER_AIRLINE_ID', 'ORIGIN_AIRPORT_ID', 'DEST_AIRPORT_ID']\""
      ]
     },
     "metadata": {},
     "output_type": "display_data"
    },
    {
     "data": {
      "text/plain": [
       "\"numerical features: ['DEP_DELAY', 'TAXI_OUT', 'DISTANCE']\""
      ]
     },
     "metadata": {},
     "output_type": "display_data"
    },
    {
     "name": "stdout",
     "output_type": "stream",
     "text": [
      "df columns: Index(['ARR_DEL15', 'MONTH', 'OP_CARRIER_AIRLINE_ID', 'ORIGIN_AIRPORT_ID',\n",
      "       'DEST_AIRPORT_ID', 'DEP_DELAY', 'TAXI_OUT', 'DISTANCE'],\n",
      "      dtype='object')\n"
     ]
    }
   ],
   "source": [
    "\"\"\" Declare categorial and numerical features. Filter df down to these features and \n",
    "    case_id and target \n",
    "\"\"\"\n",
    "\n",
    "# Read in variables from features.csv, which contains the categorical and numerical features\n",
    "f_df = pd.read_csv('data/features.csv')\n",
    "cat_f = f_df[f_df['type'] == 'categorical']['name'].tolist()\n",
    "num_f = f_df[f_df['type'] == 'numerical']['name'].tolist()\n",
    "target = f_df[f_df['type'] == 'target']['name'].tolist()\n",
    "print(f'my target is {target}')\n",
    "display(f\"categorical features: {cat_f}\")\n",
    "display(f\"numerical features: {num_f}\")\n",
    "col_to_keep = target + cat_f + num_f\n",
    "df = df[col_to_keep]\n",
    "print(f\"df columns: {df.columns}\")\n",
    "# df.to_csv('test/TEST0.csv', index=False)\n",
    "\n",
    "# FILL IN MISSING VALUES\n",
    "# For categorical variables, take the most recent value\n",
    "for col in cat_f:\n",
    "    try: \n",
    "        common_val = df[col].value_counts().idxmax()\n",
    "    except ValueError: \n",
    "        common_val = 0\n",
    "    df[col] = df[col].fillna(common_val)\n",
    "\n",
    "# FILL IN MISSING VALUES\n",
    "# round to 2 decimal places. Replace missing numerical values with the mean\n",
    "df.loc[:, num_f] = df[num_f].round(2)\n",
    "df.loc[:, num_f] = df[num_f].fillna(df[num_f].mean())\n",
    "\n",
    "# For missing target values, drop the row\n",
    "df = df.dropna(subset=target)\n",
    "# change the dtype of target to 8-bit integer\n",
    "df[target] = df[target].astype(np.int8)\n",
    "\n",
    "# one-hot encode the categorical variables\n",
    "df = pd.get_dummies(df, columns=cat_f, dtype=np.int8)\n",
    "\n",
    "# standardize the continuous variables\n",
    "scaler = StandardScaler()\n",
    "df[num_f] = scaler.fit_transform(df[num_f]) \n",
    "\n",
    "# Save the processed dataframe \n",
    "df.to_csv('data/processed/processed.csv', index=False)"
   ]
  },
  {
   "cell_type": "code",
   "execution_count": 42,
   "metadata": {},
   "outputs": [],
   "source": [
    "\"\"\" \n",
    "Now that the data is processed, we need to balance the classes \n",
    "Randomly downsample the majority class to match the minority class\n",
    "\"\"\"\n",
    "\n",
    "df = pd.read_csv('data/processed/processed.csv')\n",
    "\n",
    "minority_class = df[df[target[0]] == 1]\n",
    "majority_class = df[df[target[0]] == 0]\n",
    "\n",
    "# Downsample the majority class\n",
    "majority_class = majority_class.sample(n=len(minority_class))\n",
    "\n",
    "# Concatenate the minority and majority classes\n",
    "df = pd.concat([minority_class, majority_class])\n",
    "df.to_csv('data/processed/balanced.csv', index=False)"
   ]
  },
  {
   "cell_type": "code",
   "execution_count": 46,
   "metadata": {},
   "outputs": [
    {
     "name": "stdout",
     "output_type": "stream",
     "text": [
      "Epoch 1/6\n",
      "73/73 [==============================] - 3s 32ms/step - loss: 59.0079 - accuracy: 0.5485 - lr: 0.0010\n",
      "Epoch 2/6\n",
      "73/73 [==============================] - 2s 32ms/step - loss: 33.7412 - accuracy: 0.5692 - lr: 1.0000e-04\n",
      "Epoch 3/6\n",
      "73/73 [==============================] - 2s 31ms/step - loss: 32.0656 - accuracy: 0.5761 - lr: 1.0000e-05\n",
      "Epoch 4/6\n",
      "73/73 [==============================] - 2s 33ms/step - loss: 31.8939 - accuracy: 0.5731 - lr: 1.0000e-06\n",
      "Epoch 5/6\n",
      "73/73 [==============================] - 2s 33ms/step - loss: 31.8761 - accuracy: 0.5733 - lr: 1.0000e-07\n",
      "Epoch 6/6\n",
      "73/73 [==============================] - 2s 32ms/step - loss: 31.8743 - accuracy: 0.5733 - lr: 1.0000e-08\n"
     ]
    }
   ],
   "source": [
    "\n",
    "def splitTrainingData(df, featureCols, targetCol, random=False):\n",
    "    state = 42 if random else None\n",
    "    X = df[featureCols]\n",
    "    X = X.drop(columns=targetCol)\n",
    "    # X = X.drop(columns='DEP_DELAY')\n",
    "    y = df[targetCol]\n",
    "    X_train, X_test, y_train, y_test = train_test_split(X, y, test_size=0.2, random_state=state)\n",
    "    return X_train, X_test, y_train, y_test\n",
    "\n",
    "\n",
    "def main():\n",
    "    df = pd.read_csv('data/processed/balanced.csv')\n",
    "\n",
    "    columns = df.columns\n",
    "    X_train, X_test, y_train, y_test = splitTrainingData(df, columns, target)\n",
    "    # save X_train columns to a file\n",
    "    with open('data/processed/X_train_columns.txt', 'w') as f:\n",
    "        for col in X_train.columns:\n",
    "            f.write(col + '\\n')\n",
    "    model = NLTK_Binary_Classifier()\n",
    "    model.compile()\n",
    "\n",
    "    # Perform some fancy graphs if needed\n",
    "    history = model.fit(X_train, y_train, epochs=6, batch_size=64)\n",
    "    \n",
    "    model.model.save('model/model.keras')\n",
    "\n",
    "\n",
    "    model.reset_weights()\n",
    "\n",
    "\n",
    "main()"
   ]
  }
 ],
 "metadata": {
  "kernelspec": {
   "display_name": "Python 3",
   "language": "python",
   "name": "python3"
  },
  "language_info": {
   "codemirror_mode": {
    "name": "ipython",
    "version": 3
   },
   "file_extension": ".py",
   "mimetype": "text/x-python",
   "name": "python",
   "nbconvert_exporter": "python",
   "pygments_lexer": "ipython3",
   "version": "3.11.6"
  }
 },
 "nbformat": 4,
 "nbformat_minor": 2
}
