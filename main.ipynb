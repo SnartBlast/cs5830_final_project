{
 "cells": [
  {
   "cell_type": "code",
   "execution_count": 50,
   "metadata": {},
   "outputs": [],
   "source": [
    "from sklearn.preprocessing import StandardScaler\n",
    "import numpy as np\n",
    "import pandas as pd\n",
    "import sys"
   ]
  },
  {
   "cell_type": "code",
   "execution_count": 51,
   "metadata": {},
   "outputs": [],
   "source": [
    "df = pd.read_csv('data/small.csv')"
   ]
  },
  {
   "cell_type": "code",
   "execution_count": 52,
   "metadata": {},
   "outputs": [
    {
     "name": "stdout",
     "output_type": "stream",
     "text": [
      "my target is ['ARR_DEL15']\n"
     ]
    },
    {
     "data": {
      "text/plain": [
       "\"categorical features: ['MONTH', 'OP_CARRIER_AIRLINE_ID', 'ORIGIN_AIRPORT_ID', 'DEST_AIRPORT_ID']\""
      ]
     },
     "metadata": {},
     "output_type": "display_data"
    },
    {
     "data": {
      "text/plain": [
       "\"numerical features: ['DEP_DELAY', 'TAXI_OUT', 'DISTANCE']\""
      ]
     },
     "metadata": {},
     "output_type": "display_data"
    },
    {
     "name": "stdout",
     "output_type": "stream",
     "text": [
      "df columns: Index(['ARR_DEL15', 'MONTH', 'OP_CARRIER_AIRLINE_ID', 'ORIGIN_AIRPORT_ID',\n",
      "       'DEST_AIRPORT_ID', 'DEP_DELAY', 'TAXI_OUT', 'DISTANCE'],\n",
      "      dtype='object')\n"
     ]
    }
   ],
   "source": [
    "\"\"\" Declare categorial and numerical features. Filter df down to these features and \n",
    "    case_id and target \n",
    "\"\"\"\n",
    "\n",
    "# Read in variables from features.csv, which contains the categorical and numerical features\n",
    "f_df = pd.read_csv('features.csv')\n",
    "cat_f = f_df[f_df['type'] == 'categorical']['name'].tolist()\n",
    "num_f = f_df[f_df['type'] == 'numerical']['name'].tolist()\n",
    "target = f_df[f_df['type'] == 'target']['name'].tolist()\n",
    "print(f'my target is {target}')\n",
    "display(f\"categorical features: {cat_f}\")\n",
    "display(f\"numerical features: {num_f}\")\n",
    "col_to_keep = target + cat_f + num_f\n",
    "df = df[col_to_keep]\n",
    "print(f\"df columns: {df.columns}\")\n",
    "# df.to_csv('test/TEST0.csv', index=False)\n",
    "\n",
    "# FILL IN MISSING VALUES\n",
    "# For categorical variables, take the most recent value\n",
    "for col in cat_f:\n",
    "    try: \n",
    "        common_val = df[col].value_counts().idxmax()\n",
    "    except ValueError: \n",
    "        common_val = 0\n",
    "    df[col] = df[col].fillna(common_val)\n",
    "\n",
    "# FILL IN MISSING VALUES\n",
    "# For numerical variables, take the mean of the values\n",
    "for col in num_f:\n",
    "    common_val = df[col].mean()\n",
    "    df[col] = df[col].fillna(common_val)\n",
    "\n",
    "# round to 2 decimal places. Replace missing numerical values with the mean\n",
    "df.loc[:, num_f] = df[num_f].round(2)\n",
    "df.loc[:, num_f] = df[num_f].fillna(df[num_f].mean())\n",
    "\n",
    "# For missing target values, drop the row\n",
    "df = df.dropna(subset=target)\n",
    "# change the dtype of target to 8-bit integer\n",
    "df[target] = df[target].astype(np.int8)\n",
    "\n",
    "# one-hot encode the categorical variables\n",
    "df = pd.get_dummies(df, columns=cat_f, dtype=np.int8)\n",
    "\n",
    "# standardize the continuous variables\n",
    "scaler = StandardScaler()\n",
    "df[num_f] = scaler.fit_transform(df[num_f]) \n",
    "\n",
    "# Save the processed dataframe \n",
    "df.to_csv('processed.csv', index=False)"
   ]
  }
 ],
 "metadata": {
  "kernelspec": {
   "display_name": "Python 3",
   "language": "python",
   "name": "python3"
  },
  "language_info": {
   "codemirror_mode": {
    "name": "ipython",
    "version": 3
   },
   "file_extension": ".py",
   "mimetype": "text/x-python",
   "name": "python",
   "nbconvert_exporter": "python",
   "pygments_lexer": "ipython3",
   "version": "3.11.6"
  }
 },
 "nbformat": 4,
 "nbformat_minor": 2
}
