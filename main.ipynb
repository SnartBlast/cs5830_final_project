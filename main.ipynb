{
 "cells": [
  {
   "cell_type": "markdown",
   "metadata": {},
   "source": [
    "Dataset info:\n",
    "All 50 states except Delaware (idk why), Puerto Rico, U.S. Pacific Trust Territories and Possessions, "
   ]
  },
  {
   "cell_type": "code",
   "execution_count": 45,
   "metadata": {},
   "outputs": [],
   "source": [
    "from sklearn.preprocessing import StandardScaler\n",
    "import numpy as np\n",
    "import pandas as pd\n",
    "import sys\n",
    "import seaborn as sns\n",
    "import matplotlib.pyplot as plt\n",
    "import plotly.express as px"
   ]
  },
  {
   "cell_type": "code",
   "execution_count": 46,
   "metadata": {},
   "outputs": [],
   "source": [
    "jan = pd.read_csv('data/data_by_month/jan_2023.csv')\n",
    "feb = pd.read_csv('data/data_by_month/feb_2023.csv')\n",
    "mar = pd.read_csv('data/data_by_month/mar_2023.csv')\n",
    "apr = pd.read_csv('data/data_by_month/apr_2023.csv')\n",
    "may = pd.read_csv('data/data_by_month/may_2023.csv')\n",
    "jun = pd.read_csv('data/data_by_month/jun_2023.csv')\n",
    "jul = pd.read_csv('data/data_by_month/jul_2023.csv')\n",
    "aug = pd.read_csv('data/data_by_month/aug_2023.csv')\n",
    "sep = pd.read_csv('data/data_by_month/sep_2023.csv')\n",
    "oct = pd.read_csv('data/data_by_month/oct_2023.csv')\n",
    "nov = pd.read_csv('data/data_by_month/nov_2023.csv')\n",
    "dec = pd.read_csv('data/data_by_month/dec_2023.csv')\n",
    "df = pd.concat([jan, feb, mar, apr, may, jun, jul, aug, sep, oct, nov, dec])\n",
    "ids = pd.read_csv('data/airline_id.csv')"
   ]
  },
  {
   "cell_type": "code",
   "execution_count": null,
   "metadata": {},
   "outputs": [],
   "source": [
    "# data cleaning\n",
    "df.fillna(0, inplace=True)\n",
    "\n",
    "# rename airlines\n",
    "airline_names = pd.DataFrame(df['OP_CARRIER_AIRLINE_ID'].unique(), columns=['Code']).merge(ids, on='Code', how='left')\n",
    "airline_names['Description'] = airline_names['Description'].apply(lambda x: x.split(':')[0])\n",
    "airline_names['Description'] = airline_names['Description'].apply(lambda x: x.split('LLC')[0])\n",
    "airline_names['Description'] = airline_names['Description'].apply(lambda x: x.split('Inc.')[0])\n",
    "airline_names['Description'] = airline_names['Description'].apply(lambda x: x.split('Corp')[0])\n",
    "airline_names['Description'] = airline_names['Description'].apply(lambda x: x.split('Co.')[0])\n",
    "\n",
    "df\n"
   ]
  },
  {
   "cell_type": "code",
   "execution_count": null,
   "metadata": {},
   "outputs": [],
   "source": [
    "# create an array of the delay types\n",
    "delay_fields = ['CARRIER_DELAY', 'WEATHER_DELAY', 'NAS_DELAY', 'SECURITY_DELAY', 'LATE_AIRCRAFT_DELAY', 'CANCELLED']\n",
    "\n",
    "# prep the df to support a total flight field per airline\n",
    "df['TOTAL_FLIGHTS'] = 1\n",
    "\n",
    "# group by airline and sum the desired fields, merge with airline names\n",
    "grouped_df = df.groupby('OP_CARRIER_AIRLINE_ID').agg({delay_fields[0]: 'sum', delay_fields[1]: 'sum', delay_fields[2]: 'sum', delay_fields[3]: 'sum', delay_fields[4]: 'sum', 'CANCELLED': 'sum', 'DIVERTED': 'sum', 'TOTAL_FLIGHTS': 'sum'}).reset_index()\n",
    "grouped_with_airline = pd.merge(grouped_df, airline_names, left_on='OP_CARRIER_AIRLINE_ID', right_on='Code')\n",
    "\n",
    "\n",
    "average_delays = grouped_with_airline\n",
    "for delay in delay_fields:\n",
    "    average_delays[delay] = grouped_with_airline[delay] / grouped_with_airline['TOTAL_FLIGHTS']"
   ]
  },
  {
   "cell_type": "markdown",
   "metadata": {},
   "source": [
    "Look at averages"
   ]
  },
  {
   "cell_type": "code",
   "execution_count": null,
   "metadata": {},
   "outputs": [],
   "source": [
    "\n",
    "for delay in delay_fields:\n",
    "    average_delays_sorted = average_delays.sort_values(f'{delay}', ascending=False)\n",
    "    plt.figure()\n",
    "    plt.title(f'Average {delay} by Airline')\n",
    "    plt.xlabel('Airline')\n",
    "    plt.ylabel(f'Average {delay}')\n",
    "    plt.xticks(rotation=90)\n",
    "    sns.barplot(x='Description', y=f'{delay}', data=average_delays_sorted)\n",
    "\n",
    "\n",
    "\n"
   ]
  },
  {
   "cell_type": "markdown",
   "metadata": {},
   "source": [
    "Create a ranking for best and worst airlines"
   ]
  },
  {
   "cell_type": "code",
   "execution_count": null,
   "metadata": {},
   "outputs": [],
   "source": [
    "# create weighted scores for each airline\n",
    "ranks = pd.DataFrame(zip(airline_names['Description'], np.zeros(len(airline_names['Description']))), columns=['Airline', 'Score'])\n",
    "for feature in delay_fields:\n",
    "    temp = average_delays.sort_values(feature, ascending=False)\n",
    "    position = 1\n",
    "    for row in temp.iterrows():\n",
    "        ranks.loc[ranks['Airline'] == row[1]['Description'], 'Score'] += position\n",
    "        position += 1\n",
    "sorted_ranks = ranks.sort_values('Score', ascending=False)\n",
    "\n",
    "# add a low budget flag (according to wikipedia)\n",
    "low_budget = ['Allegiant Air', 'Frontier Airlines ', 'JetBlue Airways', 'Southwest Airlines ', 'Spirit Air Lines']\n",
    "sorted_ranks['Low Budget'] = sorted_ranks['Airline'].apply(lambda x: 1 if x in low_budget else 0)\n",
    "\n",
    "\n",
    "plt.figure()\n",
    "plt.title('Airline Ranking')\n",
    "plt.xlabel('Airline')\n",
    "plt.ylabel('Score')\n",
    "plt.xticks(rotation=90)\n",
    "sns.barplot(x='Airline', y='Score', data=sorted_ranks, hue='Low Budget')\n",
    "\n",
    "        "
   ]
  },
  {
   "cell_type": "markdown",
   "metadata": {},
   "source": [
    "It makes sense that JetBlue is last, multiple sites rank it as the worst performer in regards to delays and other factors"
   ]
  },
  {
   "cell_type": "markdown",
   "metadata": {},
   "source": [
    "Look into weather"
   ]
  },
  {
   "cell_type": "code",
   "execution_count": null,
   "metadata": {},
   "outputs": [],
   "source": [
    "df\n",
    "weather_delays = df.groupby('ORIGIN_STATE_NM').agg({'WEATHER_DELAY': 'sum', 'TOTAL_FLIGHTS': 'sum'}).reset_index()\n",
    "weather_delays['AVG'] = weather_delays['WEATHER_DELAY'] / weather_delays['TOTAL_FLIGHTS']\n",
    "weather_delays_sorted = weather_delays.sort_values('AVG', ascending=False)\n",
    "\n",
    "# rename the territories\n",
    "weather_delays_sorted['ORIGIN_STATE_NM'] = weather_delays_sorted['ORIGIN_STATE_NM'].apply(lambda x: 'U.S. Territories' if x == 'U.S. Pacific Trust Territories and Possessions' else x)\n",
    "\n",
    "plt.figure()\n",
    "plt.title('Average Weather Delay by State')\n",
    "plt.xlabel('State')\n",
    "plt.ylabel('Average Weather Delay')\n",
    "plt.xticks(rotation=90, fontsize=9)\n",
    "sns.barplot(x='ORIGIN_STATE_NM', y='AVG', data=weather_delays_sorted)\n",
    "\n"
   ]
  },
  {
   "cell_type": "markdown",
   "metadata": {},
   "source": [
    "Look into which state flies which airline the most, see if there is a pattern? See if a top airline for a state relates to weather delays, carrier delays, etc"
   ]
  },
  {
   "cell_type": "code",
   "execution_count": null,
   "metadata": {},
   "outputs": [],
   "source": [
    "# Group the data by state and airline, and get the count of flights\n",
    "flight_counts = df.groupby(['ORIGIN_STATE_ABR', 'OP_CARRIER_AIRLINE_ID']).size().reset_index(name='Flight Count')\n",
    "\n",
    "flight_counts_airlines = pd.merge(flight_counts, airline_names, left_on='OP_CARRIER_AIRLINE_ID', right_on='Code')\n",
    "flight_counts_airlines.drop(columns=['OP_CARRIER_AIRLINE_ID', 'Code'], inplace=True)\n",
    "states = flight_counts_airlines['ORIGIN_STATE_ABR'].unique()\n",
    "\n",
    "top_airlines = {}\n",
    "for state in states:\n",
    "    state_flights = flight_counts_airlines[flight_counts_airlines['ORIGIN_STATE_ABR'] == state]\n",
    "    state_flights_sorted = state_flights.sort_values('Flight Count', ascending=False)\n",
    "    top_airlines[state] = state_flights_sorted.head(1)['Description'].values[0]\n",
    "df_top_airlines = pd.DataFrame(top_airlines.items(), columns=['State', 'Airline'])\n",
    "\n",
    "fig = px.choropleth(df_top_airlines, locations='State', locationmode='USA-states', color='Airline', scope='usa', title='Top Airline by State')\n",
    "fig.show()\n",
    "\n",
    "# TODO: Look into Allegiant Airlines to see how common their flights are in the northwest"
   ]
  }
 ],
 "metadata": {
  "kernelspec": {
   "display_name": "Python 3",
   "language": "python",
   "name": "python3"
  },
  "language_info": {
   "codemirror_mode": {
    "name": "ipython",
    "version": 3
   },
   "file_extension": ".py",
   "mimetype": "text/x-python",
   "name": "python",
   "nbconvert_exporter": "python",
   "pygments_lexer": "ipython3",
   "version": "3.10.7"
  }
 },
 "nbformat": 4,
 "nbformat_minor": 2
}
